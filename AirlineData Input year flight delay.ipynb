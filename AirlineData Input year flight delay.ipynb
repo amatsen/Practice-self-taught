{
  "nbformat": 4,
  "nbformat_minor": 0,
  "metadata": {
    "colab": {
      "name": "Untitled1.ipynb",
      "provenance": [],
      "authorship_tag": "ABX9TyM7WYU2J9BGVlvd+pgEGdWC",
      "include_colab_link": true
    },
    "kernelspec": {
      "name": "python3",
      "display_name": "Python 3"
    },
    "language_info": {
      "name": "python"
    }
  },
  "cells": [
    {
      "cell_type": "markdown",
      "metadata": {
        "id": "view-in-github",
        "colab_type": "text"
      },
      "source": [
        "<a href=\"https://colab.research.google.com/github/amatsen/Practice-self-taught/blob/main/AirlineData%20Input%20year%20flight%20delay.ipynb\" target=\"_parent\"><img src=\"https://colab.research.google.com/assets/colab-badge.svg\" alt=\"Open In Colab\"/></a>"
      ]
    },
    {
      "cell_type": "code",
      "metadata": {
        "colab": {
          "base_uri": "https://localhost:8080/"
        },
        "id": "V-arIA-s9QEe",
        "outputId": "a5ec8648-a470-46bb-adc9-a5ee177c1e6a"
      },
      "source": [
        "!pip install dash==1.19.0\n",
        "\n",
        "!pip install jupyter_dash\n",
        "# Import required libraries\n",
        "import pandas as pd\n",
        "import dash\n",
        "import dash_html_components as html\n",
        "import dash_core_components as dcc\n",
        "from dash.dependencies import Input, Output\n",
        "from jupyter_dash import JupyterDash\n",
        "import plotly.graph_objects as go\n"
      ],
      "execution_count": 2,
      "outputs": [
        {
          "output_type": "stream",
          "text": [
            "Collecting dash==1.19.0\n",
            "\u001b[?25l  Downloading https://files.pythonhosted.org/packages/bc/b4/0bd5c94fdcb0eccb93c3c8068fe10f5607e542337d0b8f6e2d88078316a9/dash-1.19.0.tar.gz (75kB)\n",
            "\r\u001b[K     |████▍                           | 10kB 15.1MB/s eta 0:00:01\r\u001b[K     |████████▊                       | 20kB 14.9MB/s eta 0:00:01\r\u001b[K     |█████████████                   | 30kB 13.3MB/s eta 0:00:01\r\u001b[K     |█████████████████▍              | 40kB 12.1MB/s eta 0:00:01\r\u001b[K     |█████████████████████▊          | 51kB 9.0MB/s eta 0:00:01\r\u001b[K     |██████████████████████████▏     | 61kB 7.8MB/s eta 0:00:01\r\u001b[K     |██████████████████████████████▌ | 71kB 8.8MB/s eta 0:00:01\r\u001b[K     |████████████████████████████████| 81kB 5.2MB/s \n",
            "\u001b[?25hRequirement already satisfied: Flask>=1.0.4 in /usr/local/lib/python3.7/dist-packages (from dash==1.19.0) (1.1.2)\n",
            "Collecting flask-compress\n",
            "  Downloading https://files.pythonhosted.org/packages/c6/d5/69b13600230d24310b98a52da561113fc01a5c17acf77152761eef3e50f1/Flask_Compress-1.9.0-py3-none-any.whl\n",
            "Requirement already satisfied: plotly in /usr/local/lib/python3.7/dist-packages (from dash==1.19.0) (4.4.1)\n",
            "Collecting dash_renderer==1.9.0\n",
            "\u001b[?25l  Downloading https://files.pythonhosted.org/packages/be/a6/dd1edfe7b1102274e93991736c35b2a5e1a63b524c8d9f41bbb30f17340b/dash_renderer-1.9.0.tar.gz (1.0MB)\n",
            "\u001b[K     |████████████████████████████████| 1.0MB 9.6MB/s \n",
            "\u001b[?25hCollecting dash-core-components==1.15.0\n",
            "\u001b[?25l  Downloading https://files.pythonhosted.org/packages/22/78/ae0829e673f3df77403bcdb35073b1ed2f156080f5bcac6f21c1047d73fe/dash_core_components-1.15.0.tar.gz (3.5MB)\n",
            "\u001b[K     |████████████████████████████████| 3.5MB 28.5MB/s \n",
            "\u001b[?25hCollecting dash-html-components==1.1.2\n",
            "\u001b[?25l  Downloading https://files.pythonhosted.org/packages/3f/25/56de2708128fe375eecc2e18e0ccdc3a853494966e36334ec8a30be99b94/dash_html_components-1.1.2.tar.gz (188kB)\n",
            "\u001b[K     |████████████████████████████████| 194kB 42.5MB/s \n",
            "\u001b[?25hCollecting dash-table==4.11.2\n",
            "\u001b[?25l  Downloading https://files.pythonhosted.org/packages/3d/ae/96cb64b58d76391604b57f8c747f9a19ab2122e7ba214e2e0cf35484962b/dash_table-4.11.2.tar.gz (1.8MB)\n",
            "\u001b[K     |████████████████████████████████| 1.8MB 40.6MB/s \n",
            "\u001b[?25hRequirement already satisfied: future in /usr/local/lib/python3.7/dist-packages (from dash==1.19.0) (0.16.0)\n",
            "Requirement already satisfied: itsdangerous>=0.24 in /usr/local/lib/python3.7/dist-packages (from Flask>=1.0.4->dash==1.19.0) (1.1.0)\n",
            "Requirement already satisfied: Jinja2>=2.10.1 in /usr/local/lib/python3.7/dist-packages (from Flask>=1.0.4->dash==1.19.0) (2.11.3)\n",
            "Requirement already satisfied: click>=5.1 in /usr/local/lib/python3.7/dist-packages (from Flask>=1.0.4->dash==1.19.0) (7.1.2)\n",
            "Requirement already satisfied: Werkzeug>=0.15 in /usr/local/lib/python3.7/dist-packages (from Flask>=1.0.4->dash==1.19.0) (1.0.1)\n",
            "Collecting brotli\n",
            "\u001b[?25l  Downloading https://files.pythonhosted.org/packages/15/ea/5bd575511b37bbd1c794606a0a621e6feff8e96b7dd007a86a5d218b2d94/Brotli-1.0.9-cp37-cp37m-manylinux1_x86_64.whl (357kB)\n",
            "\u001b[K     |████████████████████████████████| 358kB 41.5MB/s \n",
            "\u001b[?25hRequirement already satisfied: retrying>=1.3.3 in /usr/local/lib/python3.7/dist-packages (from plotly->dash==1.19.0) (1.3.3)\n",
            "Requirement already satisfied: six in /usr/local/lib/python3.7/dist-packages (from plotly->dash==1.19.0) (1.15.0)\n",
            "Requirement already satisfied: MarkupSafe>=0.23 in /usr/local/lib/python3.7/dist-packages (from Jinja2>=2.10.1->Flask>=1.0.4->dash==1.19.0) (1.1.1)\n",
            "Building wheels for collected packages: dash, dash-renderer, dash-core-components, dash-html-components, dash-table\n",
            "  Building wheel for dash (setup.py) ... \u001b[?25l\u001b[?25hdone\n",
            "  Created wheel for dash: filename=dash-1.19.0-cp37-none-any.whl size=84011 sha256=a2c20d68ddef32c1ddb13b8e9bfc21ebf4771475f8f8e68f1cca56e77bb0bc57\n",
            "  Stored in directory: /root/.cache/pip/wheels/f7/50/a7/a230ff7f503b10120bff18c2524a375bb85a61ce6b519c8a77\n",
            "  Building wheel for dash-renderer (setup.py) ... \u001b[?25l\u001b[?25hdone\n",
            "  Created wheel for dash-renderer: filename=dash_renderer-1.9.0-cp37-none-any.whl size=1014870 sha256=74adf9e4eda8cc445b648c8b9cf70dd56ab8932a01f0ba90d32aeec3ffa06754\n",
            "  Stored in directory: /root/.cache/pip/wheels/46/a0/ec/2be2e8fc750e623d76f9690c397cc5ab28b33d0a16a49e10c5\n",
            "  Building wheel for dash-core-components (setup.py) ... \u001b[?25l\u001b[?25hdone\n",
            "  Created wheel for dash-core-components: filename=dash_core_components-1.15.0-cp37-none-any.whl size=3527014 sha256=243586357d76e6095eb8284d218439e90c4bda96c9e38bf50cbcd541fc4fa4a0\n",
            "  Stored in directory: /root/.cache/pip/wheels/53/3d/be/d628d6f66eedf9597f0c89c8ff43a5020ad1c25152c77d8e9f\n",
            "  Building wheel for dash-html-components (setup.py) ... \u001b[?25l\u001b[?25hdone\n",
            "  Created wheel for dash-html-components: filename=dash_html_components-1.1.2-cp37-none-any.whl size=427830 sha256=dde41cb39de89e7e276f782a4831b0357095450e320569d121b880f74c11ecf8\n",
            "  Stored in directory: /root/.cache/pip/wheels/44/95/70/0dc41f9b4e31b8a7ea22193aad5647b2c85cfab37bf13c0242\n",
            "  Building wheel for dash-table (setup.py) ... \u001b[?25l\u001b[?25hdone\n",
            "  Created wheel for dash-table: filename=dash_table-4.11.2-cp37-none-any.whl size=1839869 sha256=cff1086b5ef9d4c283929bc9157206bcf4a9c01bf25ab3ebb0aeb34a4be9b2b7\n",
            "  Stored in directory: /root/.cache/pip/wheels/72/d9/f6/2ad62ac0037f1f0c0d3d10948a596b594a069057df0656ac3f\n",
            "Successfully built dash dash-renderer dash-core-components dash-html-components dash-table\n",
            "Installing collected packages: brotli, flask-compress, dash-renderer, dash-core-components, dash-html-components, dash-table, dash\n",
            "Successfully installed brotli-1.0.9 dash-1.19.0 dash-core-components-1.15.0 dash-html-components-1.1.2 dash-renderer-1.9.0 dash-table-4.11.2 flask-compress-1.9.0\n",
            "Collecting jupyter_dash\n",
            "  Downloading https://files.pythonhosted.org/packages/46/21/d3893ad0b7a7061115938d6c38f5862522d45c4199fb7e8fde0765781e13/jupyter_dash-0.4.0-py3-none-any.whl\n",
            "Requirement already satisfied: flask in /usr/local/lib/python3.7/dist-packages (from jupyter_dash) (1.1.2)\n",
            "Requirement already satisfied: requests in /usr/local/lib/python3.7/dist-packages (from jupyter_dash) (2.23.0)\n",
            "Requirement already satisfied: dash in /usr/local/lib/python3.7/dist-packages (from jupyter_dash) (1.19.0)\n",
            "Collecting ansi2html\n",
            "  Downloading https://files.pythonhosted.org/packages/c6/85/3a46be84afbb16b392a138cd396117f438c7b2e91d8dc327621d1ae1b5dc/ansi2html-1.6.0-py3-none-any.whl\n",
            "Requirement already satisfied: ipykernel in /usr/local/lib/python3.7/dist-packages (from jupyter_dash) (4.10.1)\n",
            "Requirement already satisfied: retrying in /usr/local/lib/python3.7/dist-packages (from jupyter_dash) (1.3.3)\n",
            "Requirement already satisfied: ipython in /usr/local/lib/python3.7/dist-packages (from jupyter_dash) (5.5.0)\n",
            "Requirement already satisfied: itsdangerous>=0.24 in /usr/local/lib/python3.7/dist-packages (from flask->jupyter_dash) (1.1.0)\n",
            "Requirement already satisfied: Werkzeug>=0.15 in /usr/local/lib/python3.7/dist-packages (from flask->jupyter_dash) (1.0.1)\n",
            "Requirement already satisfied: click>=5.1 in /usr/local/lib/python3.7/dist-packages (from flask->jupyter_dash) (7.1.2)\n",
            "Requirement already satisfied: Jinja2>=2.10.1 in /usr/local/lib/python3.7/dist-packages (from flask->jupyter_dash) (2.11.3)\n",
            "Requirement already satisfied: urllib3!=1.25.0,!=1.25.1,<1.26,>=1.21.1 in /usr/local/lib/python3.7/dist-packages (from requests->jupyter_dash) (1.24.3)\n",
            "Requirement already satisfied: idna<3,>=2.5 in /usr/local/lib/python3.7/dist-packages (from requests->jupyter_dash) (2.10)\n",
            "Requirement already satisfied: certifi>=2017.4.17 in /usr/local/lib/python3.7/dist-packages (from requests->jupyter_dash) (2020.12.5)\n",
            "Requirement already satisfied: chardet<4,>=3.0.2 in /usr/local/lib/python3.7/dist-packages (from requests->jupyter_dash) (3.0.4)\n",
            "Requirement already satisfied: flask-compress in /usr/local/lib/python3.7/dist-packages (from dash->jupyter_dash) (1.9.0)\n",
            "Requirement already satisfied: dash-table==4.11.2 in /usr/local/lib/python3.7/dist-packages (from dash->jupyter_dash) (4.11.2)\n",
            "Requirement already satisfied: dash-renderer==1.9.0 in /usr/local/lib/python3.7/dist-packages (from dash->jupyter_dash) (1.9.0)\n",
            "Requirement already satisfied: future in /usr/local/lib/python3.7/dist-packages (from dash->jupyter_dash) (0.16.0)\n",
            "Requirement already satisfied: dash-html-components==1.1.2 in /usr/local/lib/python3.7/dist-packages (from dash->jupyter_dash) (1.1.2)\n",
            "Requirement already satisfied: plotly in /usr/local/lib/python3.7/dist-packages (from dash->jupyter_dash) (4.4.1)\n",
            "Requirement already satisfied: dash-core-components==1.15.0 in /usr/local/lib/python3.7/dist-packages (from dash->jupyter_dash) (1.15.0)\n",
            "Requirement already satisfied: jupyter-client in /usr/local/lib/python3.7/dist-packages (from ipykernel->jupyter_dash) (5.3.5)\n",
            "Requirement already satisfied: traitlets>=4.1.0 in /usr/local/lib/python3.7/dist-packages (from ipykernel->jupyter_dash) (5.0.5)\n",
            "Requirement already satisfied: tornado>=4.0 in /usr/local/lib/python3.7/dist-packages (from ipykernel->jupyter_dash) (5.1.1)\n",
            "Requirement already satisfied: six>=1.7.0 in /usr/local/lib/python3.7/dist-packages (from retrying->jupyter_dash) (1.15.0)\n",
            "Requirement already satisfied: prompt-toolkit<2.0.0,>=1.0.4 in /usr/local/lib/python3.7/dist-packages (from ipython->jupyter_dash) (1.0.18)\n",
            "Requirement already satisfied: pygments in /usr/local/lib/python3.7/dist-packages (from ipython->jupyter_dash) (2.6.1)\n",
            "Requirement already satisfied: decorator in /usr/local/lib/python3.7/dist-packages (from ipython->jupyter_dash) (4.4.2)\n",
            "Requirement already satisfied: pexpect; sys_platform != \"win32\" in /usr/local/lib/python3.7/dist-packages (from ipython->jupyter_dash) (4.8.0)\n",
            "Requirement already satisfied: setuptools>=18.5 in /usr/local/lib/python3.7/dist-packages (from ipython->jupyter_dash) (54.2.0)\n",
            "Requirement already satisfied: simplegeneric>0.8 in /usr/local/lib/python3.7/dist-packages (from ipython->jupyter_dash) (0.8.1)\n",
            "Requirement already satisfied: pickleshare in /usr/local/lib/python3.7/dist-packages (from ipython->jupyter_dash) (0.7.5)\n",
            "Requirement already satisfied: MarkupSafe>=0.23 in /usr/local/lib/python3.7/dist-packages (from Jinja2>=2.10.1->flask->jupyter_dash) (1.1.1)\n",
            "Requirement already satisfied: brotli in /usr/local/lib/python3.7/dist-packages (from flask-compress->dash->jupyter_dash) (1.0.9)\n",
            "Requirement already satisfied: jupyter-core>=4.6.0 in /usr/local/lib/python3.7/dist-packages (from jupyter-client->ipykernel->jupyter_dash) (4.7.1)\n",
            "Requirement already satisfied: pyzmq>=13 in /usr/local/lib/python3.7/dist-packages (from jupyter-client->ipykernel->jupyter_dash) (22.0.3)\n",
            "Requirement already satisfied: python-dateutil>=2.1 in /usr/local/lib/python3.7/dist-packages (from jupyter-client->ipykernel->jupyter_dash) (2.8.1)\n",
            "Requirement already satisfied: ipython-genutils in /usr/local/lib/python3.7/dist-packages (from traitlets>=4.1.0->ipykernel->jupyter_dash) (0.2.0)\n",
            "Requirement already satisfied: wcwidth in /usr/local/lib/python3.7/dist-packages (from prompt-toolkit<2.0.0,>=1.0.4->ipython->jupyter_dash) (0.2.5)\n",
            "Requirement already satisfied: ptyprocess>=0.5 in /usr/local/lib/python3.7/dist-packages (from pexpect; sys_platform != \"win32\"->ipython->jupyter_dash) (0.7.0)\n",
            "Installing collected packages: ansi2html, jupyter-dash\n",
            "Successfully installed ansi2html-1.6.0 jupyter-dash-0.4.0\n"
          ],
          "name": "stdout"
        }
      ]
    },
    {
      "cell_type": "code",
      "metadata": {
        "id": "CH48QZVa9W8u"
      },
      "source": [
        "JupyterDash.infer_jupyter_proxy_config()"
      ],
      "execution_count": 3,
      "outputs": []
    },
    {
      "cell_type": "code",
      "metadata": {
        "id": "s0ZGnB1y9aVd"
      },
      "source": [
        " # needs to be run again in a separate cell due to a jupyterdash bug\n",
        "JupyterDash.infer_jupyter_proxy_config()"
      ],
      "execution_count": 4,
      "outputs": []
    },
    {
      "cell_type": "code",
      "metadata": {
        "colab": {
          "base_uri": "https://localhost:8080/",
          "height": 671
        },
        "id": "ySO45rrp9fCp",
        "outputId": "d5bb2a7a-8b2e-4a7d-c9cd-0569dc12b8bc"
      },
      "source": [
        "# Create a dash application\n",
        "app = JupyterDash(__name__)\n",
        "\n",
        "# Read the airline data into pandas dataframe\n",
        "airline_data =  pd.read_csv('https://cf-courses-data.s3.us.cloud-object-storage.appdomain.cloud/IBMDeveloperSkillsNetwork-DV0101EN-SkillsNetwork/Data%20Files/airline_data.csv', \n",
        "                            encoding = \"ISO-8859-1\",\n",
        "                            dtype={'Div1Airport': str, 'Div1TailNum': str, \n",
        "                                   'Div2Airport': str, 'Div2TailNum': str})\n",
        "\n",
        "# To do\n",
        "# Get the layout of the application and adjust it.\n",
        "# Create an outer division using html.Div and add title to the dashboard using html.H1 component\n",
        "# Add a html.Div and core input text component\n",
        "# Finally, add graph component.\n",
        "app.layout = html.Div(children=[ html.H1('Airline Performance Dashboard', \n",
        "                                style={'textAlign': 'center', 'color': '#503D36',\n",
        "                                'font-size': 40}),\n",
        "                                html.Div([\"Input Year: \", dcc.Input(id='input-year', value='2010', \n",
        "                                type='number', style={'height':'50px', 'font-size': 35}),], \n",
        "                                style={'font-size': 40}),\n",
        "                                html.Br(),\n",
        "                                html.Br(),\n",
        "                                html.Div(dcc.Graph(id='line-plot')),\n",
        "                                ])\n",
        "\n",
        "# add callback decorator\n",
        "@app.callback( Output(component_id='line-plot', component_property='figure'),\n",
        "               Input(component_id='input-year', component_property='value'))\n",
        "\n",
        "# Add computation to callback function and return graph\n",
        "def get_graph(entered_year):\n",
        "    # Select 2019 data\n",
        "    df =  airline_data[airline_data['Year']==int(entered_year)]\n",
        "    \n",
        "    # Group the data by Month and compute average over arrival delay time.\n",
        "    line_data = df.groupby('Month')['ArrDelay'].mean().reset_index()\n",
        "\n",
        "    fig = go.Figure(data=go.Scatter(x=line_data['Month'], y=line_data['ArrDelay'], mode='lines', marker=dict(color='green')))\n",
        "    fig.update_layout(title='Month vs Average Flight Delay Time', xaxis_title='Month', yaxis_title='ArrDelay')\n",
        "    return fig\n",
        "\n",
        "# Run the app\n",
        "if __name__ == '__main__':\n",
        "    app.run_server(mode=\"inline\", host=\"localhost\")\n",
        "    \n",
        "\n",
        "\n",
        "    "
      ],
      "execution_count": 5,
      "outputs": [
        {
          "output_type": "display_data",
          "data": {
            "application/javascript": [
              "(async (port, path, width, height, cache, element) => {\n",
              "    if (!google.colab.kernel.accessAllowed && !cache) {\n",
              "      return;\n",
              "    }\n",
              "    element.appendChild(document.createTextNode(''));\n",
              "    const url = await google.colab.kernel.proxyPort(port, {cache});\n",
              "    const iframe = document.createElement('iframe');\n",
              "    iframe.src = url + path;\n",
              "    iframe.height = height;\n",
              "    iframe.width = width;\n",
              "    iframe.style.border = 0;\n",
              "    element.appendChild(iframe);\n",
              "  })(8050, \"/\", \"100%\", 650, false, window.element)"
            ],
            "text/plain": [
              "<IPython.core.display.Javascript object>"
            ]
          },
          "metadata": {
            "tags": []
          }
        }
      ]
    },
    {
      "cell_type": "code",
      "metadata": {
        "id": "-Du_N8cr9iWl"
      },
      "source": [
        ""
      ],
      "execution_count": null,
      "outputs": []
    }
  ]
}